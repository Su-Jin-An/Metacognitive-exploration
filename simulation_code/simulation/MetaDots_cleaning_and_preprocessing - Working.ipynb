{
 "cells": [
  {
   "cell_type": "markdown",
   "metadata": {},
   "source": [
    "# Import packages"
   ]
  },
  {
   "cell_type": "code",
   "execution_count": 1,
   "metadata": {
    "collapsed": false
   },
   "outputs": [
    {
     "name": "stdout",
     "output_type": "stream",
     "text": [
      "Populating the interactive namespace from numpy and matplotlib\n"
     ]
    },
    {
     "name": "stderr",
     "output_type": "stream",
     "text": [
      "WARNING: pylab import has clobbered these variables: ['pylab', 'copy']\n",
      "`%matplotlib` prevents importing * from pylab and numpy\n"
     ]
    }
   ],
   "source": [
    "#-*- coding: utf-8 -*-\n",
    "\n",
    "import numpy as np\n",
    "import pandas as pd\n",
    "from sklearn import linear_model # packages for the logistic regression function to plot the logistic regression \n",
    "from sklearn.linear_model import LogisticRegression # packages for the logistic regression function to plot the logistic regression \n",
    "from scipy import stats\n",
    "from scipy.stats.stats import pearsonr # Pearson's correlation\n",
    "from pandas.core.frame import DataFrame as DF\n",
    "from copy import copy as copy\n",
    "import operator as operator\n",
    "import pylab\n",
    "import scipy.io as spi\n",
    "\n",
    "# Show graphs in Notebook\n",
    "%matplotlib inline\n",
    "\n",
    "# linking to files in notebooks\n",
    "from IPython.display import FileLink, FileLinks\n",
    "\n",
    "# Plotting tools\n",
    "import matplotlib.pyplot as plt\n",
    "import matplotlib.gridspec as gridspec\n",
    "import seaborn as sns\n",
    "%pylab inline\n",
    "figsize(15, 15);\n",
    "\n",
    "# Set up interface with R\n",
    "import rpy2\n",
    "%reload_ext rpy2.ipython\n",
    "\n",
    "# GLM in python\n",
    "import patsy\n",
    "import statsmodels.api as sm\n",
    "import statsmodels.formula.api as smf\n",
    "import statsmodels.stats as sm_stats\n",
    "\n",
    "# Make it easy to set and find values in a multi-index DF\n",
    "idx = pd.IndexSlice\n",
    "\n",
    "# Useful to quickly extract csv files\n",
    "import glob"
   ]
  },
  {
   "cell_type": "markdown",
   "metadata": {},
   "source": [
    "# Homemade functions"
   ]
  },
  {
   "cell_type": "code",
   "execution_count": 2,
   "metadata": {
    "collapsed": true
   },
   "outputs": [],
   "source": [
    "def ExtractConf(FullData, Bin, Correct, Response):\n",
    "    Conf = FullData.loc[(FullData['CorrectKey']== Correct) & (FullData['Conf_Bin']==Bin)].groupby('participant')['Response'].value_counts()\n",
    "    return Conf.loc[slice(None), Response]\n",
    "\n",
    "# This is the final function thet is using the other functions to generate the binned data, it requires three parameters,\n",
    "# group (monolingual or bilingual, or more generally S1 or S2) correct (left or right, or S1 or S2), and number of bins\n",
    "# for the confidence.\n",
    "def GenConfBins(FullData, Correct):\n",
    "    Bins=int(FullData['Conf_Bin'].max())\n",
    "#     print (Bins)\n",
    "    # First we create an output array with twice the amount of  columns that there are bins (first for when the\n",
    "    # participants answer S1, and then for when they answer S2) and 31 rows (one per participant in each group)\n",
    "    OutputArray = [ [1]*(Bins*2) for i in FullData['participant'].unique()]\n",
    "    # The data is generated in order, from left to right, both in terms of responses and the positions in the output\n",
    "    \n",
    "    #Starting with the left, S1, responses, we loop through the bins:\n",
    "    for Bin in range(Bins):\n",
    "        # We generate a pandas series for the binned data in this particular confidence/response bin for each participant\n",
    "        # The (Bins-Bin) expression means that we start with the highest value bin and work our way down\n",
    "        inputseries = ExtractConf(FullData, (Bins - Bin), Correct, 'left')\n",
    "        # We generate a list of the participants who have a non-zero value in this bin\n",
    "        participants = inputseries.index.get_values()\n",
    "#         print ( participants)\n",
    "        # A loop that maps the binned value of a given participant to the correct place in the output array\n",
    "        for participant in participants:\n",
    "            OutputArray[participant-1][Bin] = 1 + inputseries.loc[participant]\n",
    "            \n",
    "    #Next we do the right, S2, responses, we loop through the bins:\n",
    "    for Bin in range(Bins):\n",
    "        # We generate a pandas series for the binned data in this particular confidence/response bin for each participant\n",
    "        # On this side we start with the lowest confidence bin and work our way up\n",
    "        inputseries = ExtractConf(FullData, Bin+1, Correct, 'right')\n",
    "        # We generate a list of the participants who have a non-zero value in this bin\n",
    "        participants = inputseries.index.get_values()\n",
    "        # A loop that maps the binned value of a given participant to the correct place in the output array\n",
    "        # The (Bins+Bin) expression is because we have already filled the first set of array with the left (S1) values\n",
    "        for participant in participants:\n",
    "            OutputArray[participant-1][(Bins+Bin)] = 1 + inputseries.loc[participant]\n",
    "                     \n",
    "    return OutputArray"
   ]
  },
  {
   "cell_type": "code",
   "execution_count": 3,
   "metadata": {
    "collapsed": true
   },
   "outputs": [],
   "source": [
    "def zscore(data, old_var):\n",
    "    output = ((data[old_var] - data[old_var].mean())/\n",
    "              data[old_var].std())\n",
    "    return output.values"
   ]
  },
  {
   "cell_type": "code",
   "execution_count": 4,
   "metadata": {
    "collapsed": true
   },
   "outputs": [],
   "source": [
    "def participant_zscore(data, old_var, sort_var):\n",
    "    data2 = data.set_index(sort_var).copy()\n",
    "    output = ((data2[old_var] - data2.groupby(level=sort_var)[old_var].mean())/\n",
    "              data2.groupby(level=sort_var)[old_var].std())\n",
    "    return output.values"
   ]
  },
  {
   "cell_type": "markdown",
   "metadata": {},
   "source": [
    "# Making the dataframe"
   ]
  },
  {
   "cell_type": "markdown",
   "metadata": {},
   "source": [
    "<font size=4>[Skip this section and load pre-cleaned and combined data](#load_data)</font>"
   ]
  },
  {
   "cell_type": "markdown",
   "metadata": {},
   "source": [
    "## Loading the data"
   ]
  },
  {
   "cell_type": "code",
   "execution_count": 5,
   "metadata": {
    "collapsed": false
   },
   "outputs": [],
   "source": [
    "data_path = \"C:\\\\Users\\\\user\\\\Desktop\\\\실험 데이터\\\\Data\\\\Main\"\n",
    "file_list = glob.glob(\"C:\\\\Users\\\\user\\\\Desktop\\\\실험 데이터\\\\Data\\\\Main\\\\With name\\\\*.csv\")\n",
    "#print (file_list)\n",
    "data_frames = [pd.read_csv(file, encoding = \"ISO-8859-1\") for file in file_list]\n",
    "# print (data_frames)"
   ]
  },
  {
   "cell_type": "code",
   "execution_count": null,
   "metadata": {
    "collapsed": true
   },
   "outputs": [],
   "source": []
  },
  {
   "cell_type": "markdown",
   "metadata": {},
   "source": [
    "## Cleaning dataframe"
   ]
  },
  {
   "cell_type": "code",
   "execution_count": 6,
   "metadata": {
    "collapsed": false
   },
   "outputs": [
    {
     "name": "stdout",
     "output_type": "stream",
     "text": [
      "Index(['Confidence', 'Confidence.RT', 'CorrectKey',\n",
      "       'Instructions4Response.keys', 'Instructions4Response.rt', 'RT',\n",
      "       'Response', 'participant'],\n",
      "      dtype='object')\n",
      "Index(['Confidence', 'Confidence.RT', 'CorrectKey',\n",
      "       'Instructions4Response.keys', 'Instructions4Response.rt', 'RT',\n",
      "       'Response', 'participant'],\n",
      "      dtype='object')\n",
      "Index(['Confidence', 'Confidence.RT', 'CorrectKey',\n",
      "       'Instructions4Response.keys', 'Instructions4Response.rt', 'RT',\n",
      "       'Response', 'participant'],\n",
      "      dtype='object')\n",
      "Index(['Confidence', 'Confidence.RT', 'CorrectKey',\n",
      "       'Instructions4Response.keys', 'Instructions4Response.rt', 'RT',\n",
      "       'Response', 'participant'],\n",
      "      dtype='object')\n",
      "Index(['Confidence', 'Confidence.RT', 'CorrectKey',\n",
      "       'Instructions4Response.keys', 'Instructions4Response.rt', 'RT',\n",
      "       'Response', 'participant'],\n",
      "      dtype='object')\n",
      "Index(['Confidence', 'Confidence.RT', 'CorrectKey',\n",
      "       'Instructions4Response.keys', 'Instructions4Response.rt', 'RT',\n",
      "       'Response', 'participant'],\n",
      "      dtype='object')\n",
      "Index(['Confidence', 'Confidence.RT', 'CorrectKey',\n",
      "       'Instructions4Response.keys', 'Instructions4Response.rt', 'RT',\n",
      "       'Response', 'participant'],\n",
      "      dtype='object')\n",
      "Index(['Confidence', 'Confidence.RT', 'CorrectKey',\n",
      "       'Instructions4Response.keys', 'Instructions4Response.rt', 'RT',\n",
      "       'Response', 'participant'],\n",
      "      dtype='object')\n",
      "Index(['Confidence', 'Confidence.RT', 'CorrectKey',\n",
      "       'Instructions4Response.keys', 'Instructions4Response.rt', 'RT',\n",
      "       'Response', 'participant'],\n",
      "      dtype='object')\n",
      "Index(['Confidence', 'Confidence.RT', 'CorrectKey',\n",
      "       'Instructions4Response.keys', 'Instructions4Response.rt', 'RT',\n",
      "       'Response', 'participant'],\n",
      "      dtype='object')\n",
      "Index(['Confidence', 'Confidence.RT', 'CorrectKey',\n",
      "       'Instructions4Response.keys', 'Instructions4Response.rt', 'RT',\n",
      "       'Response', 'participant'],\n",
      "      dtype='object')\n",
      "Index(['Confidence', 'Confidence.RT', 'CorrectKey',\n",
      "       'Instructions4Response.keys', 'Instructions4Response.rt', 'RT',\n",
      "       'Response', 'participant'],\n",
      "      dtype='object')\n",
      "Index(['Confidence', 'Confidence.RT', 'CorrectKey',\n",
      "       'Instructions4Response.keys', 'Instructions4Response.rt', 'RT',\n",
      "       'Response', 'participant'],\n",
      "      dtype='object')\n",
      "Index(['Confidence', 'Confidence.RT', 'CorrectKey',\n",
      "       'Instructions4Response.keys', 'Instructions4Response.rt', 'RT',\n",
      "       'Response', 'participant'],\n",
      "      dtype='object')\n",
      "Index(['Confidence', 'Confidence.RT', 'CorrectKey',\n",
      "       'Instructions4Response.keys', 'Instructions4Response.rt', 'RT',\n",
      "       'Response', 'participant'],\n",
      "      dtype='object')\n",
      "Index(['Confidence', 'Confidence.RT', 'CorrectKey',\n",
      "       'Instructions4Response.keys', 'Instructions4Response.rt', 'RT',\n",
      "       'Response', 'participant'],\n",
      "      dtype='object')\n",
      "Index(['Confidence', 'Confidence.RT', 'CorrectKey',\n",
      "       'Instructions4Response.keys', 'Instructions4Response.rt', 'RT',\n",
      "       'Response', 'participant'],\n",
      "      dtype='object')\n",
      "Index(['Confidence', 'Confidence.RT', 'CorrectKey',\n",
      "       'Instructions4Response.keys', 'Instructions4Response.rt', 'RT',\n",
      "       'Response', 'participant'],\n",
      "      dtype='object')\n",
      "Index(['Confidence', 'Confidence.RT', 'CorrectKey',\n",
      "       'Instructions4Response.keys', 'Instructions4Response.rt', 'RT',\n",
      "       'Response', 'participant'],\n",
      "      dtype='object')\n",
      "Index(['Confidence', 'Confidence.RT', 'CorrectKey',\n",
      "       'Instructions4Response.keys', 'Instructions4Response.rt', 'RT',\n",
      "       'Response', 'participant'],\n",
      "      dtype='object')\n",
      "Index(['Confidence', 'Confidence.RT', 'CorrectKey',\n",
      "       'Instructions4Response.keys', 'Instructions4Response.rt', 'RT',\n",
      "       'Response', 'participant'],\n",
      "      dtype='object')\n",
      "Index(['Confidence', 'Confidence.RT', 'CorrectKey',\n",
      "       'Instructions4Response.keys', 'Instructions4Response.rt', 'RT',\n",
      "       'Response', 'participant'],\n",
      "      dtype='object')\n",
      "Index(['Confidence', 'Confidence.RT', 'CorrectKey',\n",
      "       'Instructions4Response.keys', 'Instructions4Response.rt', 'RT',\n",
      "       'Response', 'participant'],\n",
      "      dtype='object')\n",
      "Index(['Confidence', 'Confidence.RT', 'CorrectKey',\n",
      "       'Instructions4Response.keys', 'Instructions4Response.rt', 'RT',\n",
      "       'Response', 'participant'],\n",
      "      dtype='object')\n",
      "Index(['Confidence', 'Confidence.RT', 'CorrectKey',\n",
      "       'Instructions4Response.keys', 'Instructions4Response.rt', 'RT',\n",
      "       'Response', 'participant'],\n",
      "      dtype='object')\n",
      "Index(['Confidence', 'Confidence.RT', 'CorrectKey',\n",
      "       'Instructions4Response.keys', 'Instructions4Response.rt', 'RT',\n",
      "       'Response', 'participant'],\n",
      "      dtype='object')\n",
      "Index(['Confidence', 'Confidence.RT', 'CorrectKey',\n",
      "       'Instructions4Response.keys', 'Instructions4Response.rt', 'RT',\n",
      "       'Response', 'participant'],\n",
      "      dtype='object')\n",
      "Index(['Confidence', 'Confidence.RT', 'CorrectKey',\n",
      "       'Instructions4Response.keys', 'Instructions4Response.rt', 'RT',\n",
      "       'Response', 'participant'],\n",
      "      dtype='object')\n",
      "Index(['Confidence', 'Confidence.RT', 'CorrectKey',\n",
      "       'Instructions4Response.keys', 'Instructions4Response.rt', 'RT',\n",
      "       'Response', 'participant'],\n",
      "      dtype='object')\n",
      "Index(['Confidence', 'Confidence.RT', 'CorrectKey',\n",
      "       'Instructions4Response.keys', 'Instructions4Response.rt', 'RT',\n",
      "       'Response', 'participant'],\n",
      "      dtype='object')\n",
      "Index(['Confidence', 'Confidence.RT', 'CorrectKey',\n",
      "       'Instructions4Response.keys', 'Instructions4Response.rt', 'RT',\n",
      "       'Response', 'participant'],\n",
      "      dtype='object')\n",
      "Index(['Confidence', 'Confidence.RT', 'CorrectKey',\n",
      "       'Instructions4Response.keys', 'Instructions4Response.rt', 'RT',\n",
      "       'Response', 'participant'],\n",
      "      dtype='object')\n",
      "Index(['Confidence', 'Confidence.RT', 'CorrectKey',\n",
      "       'Instructions4Response.keys', 'Instructions4Response.rt', 'RT',\n",
      "       'Response', 'participant'],\n",
      "      dtype='object')\n"
     ]
    }
   ],
   "source": [
    "clean = []\n",
    "for data_frame in data_frames:\n",
    "    columns = data_frame.columns[13:16] | data_frames[0].columns[21:23] | data_frame.columns[32:33] | data_frames[0].columns[23:25]\n",
    "    print (columns)\n",
    "#     ORIGINAL - columns = data_frame.columns[13:21] | data_frames[0].columns[23:25] | data_frame.columns[27:32] | data_frame.columns[32:33] \n",
    "#     data_frame.columns[35:36]\n",
    "    main_trials_start = data_frame.loc[data_frame['Instructions4Response.keys'] == 'space'].index[0]+1\n",
    "    clean.append(data_frame.loc[main_trials_start:, columns].copy())\n",
    "#     print(clean)\n",
    "#    print ('participant', data_frame['participant'].mean())\n",
    "#     print (columns)\n",
    "#     print (data_frame)"
   ]
  },
  {
   "cell_type": "code",
   "execution_count": 7,
   "metadata": {
    "collapsed": false,
    "scrolled": true
   },
   "outputs": [
    {
     "name": "stdout",
     "output_type": "stream",
     "text": [
      "Index(['Confidence', 'Confidence.RT', 'CorrectKey',\n",
      "       'Instructions4Response.keys', 'Instructions4Response.rt', 'RT',\n",
      "       'Response', 'participant'],\n",
      "      dtype='object')\n",
      "[10 11 12 13 14 15 16 17 18 19  1 20 21 22 23 24 25 26 27 28 29  2 30 31\n",
      " 32 33  3  4  5  6  7  8  9]\n"
     ]
    }
   ],
   "source": [
    "data = pd.concat(clean)\n",
    "print (data.columns)\n",
    "print (data['participant'].unique())"
   ]
  },
  {
   "cell_type": "markdown",
   "metadata": {},
   "source": [
    "## Preparing the data for matlab"
   ]
  },
  {
   "cell_type": "markdown",
   "metadata": {},
   "source": [
    "### Binning the data at the participant level"
   ]
  },
  {
   "cell_type": "code",
   "execution_count": 8,
   "metadata": {
    "collapsed": false,
    "scrolled": false
   },
   "outputs": [
    {
     "name": "stdout",
     "output_type": "stream",
     "text": [
      "[ 1  2  3  4  5  6  7  8  9 10 11 12 13 14 15 16 17 18 19 20 21 22 23 24\n",
      " 25 26 27 28 29 30 31 32 33]\n"
     ]
    }
   ],
   "source": [
    "data = data.sort_values(by=['participant'],ascending=[True])\n",
    "print (data['participant'].unique())\n",
    "data['Conf_Bin'] = np.nan\n",
    "# print (data.columns)\n",
    "# save concatinated data\n",
    "# df = pd.DataFrame(data, columns = data.columns)\n",
    "# print (df)\n",
    "# df.to_csv('example.csv')\n",
    "\n",
    "for participant in data.participant.unique():\n",
    "    data.loc[data['participant']==participant, 'Conf_Bin'] = pd.cut(data.loc[data['participant']==participant, 'Confidence'], 3, labels=range(1, 4)).values\n",
    "#     print (participant)"
   ]
  },
  {
   "cell_type": "code",
   "execution_count": 9,
   "metadata": {
    "collapsed": false,
    "scrolled": false
   },
   "outputs": [
    {
     "name": "stdout",
     "output_type": "stream",
     "text": [
      "[ 1  2  3  4  5  6  7  8  9 10 11 12 13 14 15 16 17 18 19 20 21 22 23 24\n",
      " 25 26 27 28 29 30 31 32 33]\n",
      "2.0    2458\n",
      "3.0    2368\n",
      "1.0    1774\n",
      "Name: Conf_Bin, dtype: int64\n"
     ]
    }
   ],
   "source": [
    "data['Conf_Bin'].value_counts()\n",
    "print (data['participant'].unique())\n",
    "print (data['Conf_Bin'].value_counts())"
   ]
  },
  {
   "cell_type": "markdown",
   "metadata": {},
   "source": [
    "### Preparing the dataframes"
   ]
  },
  {
   "cell_type": "code",
   "execution_count": 10,
   "metadata": {
    "collapsed": false
   },
   "outputs": [
    {
     "name": "stdout",
     "output_type": "stream",
     "text": [
      "[ 1  2  3  4  5  6  7  8  9 10 11 12 13 14 15 16 17 18 19 20 21 22 23 24\n",
      " 25 26 27 28 29 30 31 32 33]\n",
      "     Confidence  Confidence.RT CorrectKey Instructions4Response.keys  \\\n",
      "19         0.92          2.170      right                        NaN   \n",
      "152        1.00          1.071      right                        NaN   \n",
      "153        0.68          2.170      right                        NaN   \n",
      "154        1.00          1.021       left                        NaN   \n",
      "155        1.00          1.654       left                        NaN   \n",
      "156        0.84          3.338       left                        NaN   \n",
      "157        0.70          2.820      right                        NaN   \n",
      "158        0.16          2.688       left                        NaN   \n",
      "159        0.38          1.904       left                        NaN   \n",
      "160        0.76          1.354      right                        NaN   \n",
      "161        0.62          1.388      right                        NaN   \n",
      "151        0.58          1.138      right                        NaN   \n",
      "162        1.00          1.103      right                        NaN   \n",
      "164        0.00          1.988      right                        NaN   \n",
      "165        1.00          1.120       left                        NaN   \n",
      "166        1.00          2.386      right                        NaN   \n",
      "167        0.18          2.437      right                        NaN   \n",
      "168        0.86          1.805       left                        NaN   \n",
      "169        1.00          0.903       left                        NaN   \n",
      "170        0.50          1.953      right                        NaN   \n",
      "171        0.30          2.636      right                        NaN   \n",
      "172        0.00          1.053      right                        NaN   \n",
      "173        1.00          1.338       left                        NaN   \n",
      "163        0.00          2.371      right                        NaN   \n",
      "174         NaN            NaN        NaN                        NaN   \n",
      "150        0.90          2.171       left                        NaN   \n",
      "148         NaN            NaN        NaN                        NaN   \n",
      "126        0.76          3.036      right                        NaN   \n",
      "127        0.00          2.737       left                        NaN   \n",
      "128        0.42          2.069      right                        NaN   \n",
      "..          ...            ...        ...                        ...   \n",
      "122         NaN            NaN        NaN                        NaN   \n",
      "112        0.86          0.717      right                        NaN   \n",
      "99         1.00          0.850      right                        NaN   \n",
      "98         0.68          0.535       left                        NaN   \n",
      "97         1.00          1.003       left                        NaN   \n",
      "74         0.64          1.084       left                        NaN   \n",
      "75         0.34          1.186       left                        NaN   \n",
      "76         0.32          0.819       left                        NaN   \n",
      "77         0.36          0.550      right                        NaN   \n",
      "78         0.76          0.586      right                        NaN   \n",
      "79         0.94          0.618      right                        NaN   \n",
      "80         0.78          0.636       left                        NaN   \n",
      "81         0.68          0.818       left                        NaN   \n",
      "82         0.66          0.518      right                        NaN   \n",
      "83         0.72          0.601       left                        NaN   \n",
      "84         0.88          0.635      right                        NaN   \n",
      "85         1.00          1.269       left                        NaN   \n",
      "86         0.66          1.085       left                        NaN   \n",
      "87         0.80          0.768       left                        NaN   \n",
      "88         0.62          0.435      right                        NaN   \n",
      "89         0.36          0.769      right                        NaN   \n",
      "90         0.86          0.735       left                        NaN   \n",
      "91         0.68          0.501       left                        NaN   \n",
      "92         0.70          0.552      right                        NaN   \n",
      "93         0.82          0.750       left                        NaN   \n",
      "94         0.74          0.484      right                        NaN   \n",
      "95         0.74          0.653       left                        NaN   \n",
      "96          NaN            NaN        NaN                        NaN   \n",
      "19         0.62          1.018       left                        NaN   \n",
      "70          NaN            NaN        NaN                        NaN   \n",
      "\n",
      "     Instructions4Response.rt        RT Response  participant Conf_Bin  \n",
      "19                        NaN  0.849871    right            1        3  \n",
      "152                       NaN  0.584100     left            1        3  \n",
      "153                       NaN  0.433506     left            1        3  \n",
      "154                       NaN  0.299806     left            1        3  \n",
      "155                       NaN  0.317569     left            1        3  \n",
      "156                       NaN  0.934205     left            1        3  \n",
      "157                       NaN  0.416576    right            1        3  \n",
      "158                       NaN  0.617763     left            1        1  \n",
      "159                       NaN  0.484213     left            1        2  \n",
      "160                       NaN  0.533400     left            1        3  \n",
      "161                       NaN  0.467047     left            1        2  \n",
      "151                       NaN  0.417410     left            1        2  \n",
      "162                       NaN  0.283995    right            1        3  \n",
      "164                       NaN  2.584832    right            1        1  \n",
      "165                       NaN  0.499973     left            1        3  \n",
      "166                       NaN  0.367249    right            1        3  \n",
      "167                       NaN  0.982066     left            1        1  \n",
      "168                       NaN  0.466586     left            1        3  \n",
      "169                       NaN  0.384902     left            1        3  \n",
      "170                       NaN  1.033998     left            1        2  \n",
      "171                       NaN  1.033798    right            1        1  \n",
      "172                       NaN  1.200130    right            1        1  \n",
      "173                       NaN  0.384090     left            1        3  \n",
      "163                       NaN  1.249638     left            1        1  \n",
      "174                       NaN       NaN      NaN            1      NaN  \n",
      "150                       NaN  0.434471     left            1        3  \n",
      "148                       NaN       NaN      NaN            1      NaN  \n",
      "126                       NaN  1.067564    right            1        3  \n",
      "127                       NaN  3.334717     left            1        1  \n",
      "128                       NaN  3.266959    right            1        2  \n",
      "..                        ...       ...      ...          ...      ...  \n",
      "122                       NaN       NaN      NaN           33      NaN  \n",
      "112                       NaN  0.316906    right           33        3  \n",
      "99                        NaN  0.283814    right           33        3  \n",
      "98                        NaN  0.416046     left           33        3  \n",
      "97                        NaN  0.318389     left           33        3  \n",
      "74                        NaN  0.617228    right           33        2  \n",
      "75                        NaN  0.766875     left           33        2  \n",
      "76                        NaN  2.050318    right           33        1  \n",
      "77                        NaN  1.816029     left           33        2  \n",
      "78                        NaN  0.383264    right           33        3  \n",
      "79                        NaN  0.317770    right           33        3  \n",
      "80                        NaN  0.634141    right           33        3  \n",
      "81                        NaN  0.631213    right           33        3  \n",
      "82                        NaN  0.284536    right           33        2  \n",
      "83                        NaN  0.350063     left           33        3  \n",
      "84                        NaN  0.219109    right           33        3  \n",
      "85                        NaN  0.349679     left           33        3  \n",
      "86                        NaN  0.500940    right           33        2  \n",
      "87                        NaN  0.299982     left           33        3  \n",
      "88                        NaN  0.550311    right           33        2  \n",
      "89                        NaN  0.599869     left           33        2  \n",
      "90                        NaN  0.767651    right           33        3  \n",
      "91                        NaN  0.366056     left           33        3  \n",
      "92                        NaN  0.417866    right           33        3  \n",
      "93                        NaN  0.366546     left           33        3  \n",
      "94                        NaN  0.301265    right           33        3  \n",
      "95                        NaN  0.368365     left           33        3  \n",
      "96                        NaN       NaN      NaN           33      NaN  \n",
      "19                        NaN  0.684444     left           33        2  \n",
      "70                        NaN       NaN      NaN           33      NaN  \n",
      "\n",
      "[6863 rows x 9 columns]\n"
     ]
    }
   ],
   "source": [
    "# participant_nr = 1\n",
    "# for participant in data.participant.unique():\n",
    "#     print (participant)\n",
    "#     data.loc[data['participant']==participant, 'participant'] = participant_nr\n",
    "#     participant_nr += 1\n",
    "# data['participant'].unique()\n",
    "print (data['participant'].unique())\n",
    "print (data)"
   ]
  },
  {
   "cell_type": "code",
   "execution_count": 11,
   "metadata": {
    "collapsed": false
   },
   "outputs": [],
   "source": [
    "data_S1 = GenConfBins(data, 'left')\n",
    "# print (data_S1)"
   ]
  },
  {
   "cell_type": "code",
   "execution_count": 12,
   "metadata": {
    "collapsed": false
   },
   "outputs": [
    {
     "data": {
      "text/plain": [
       "[[13, 20, 12, 18, 19, 31],\n",
       " [19, 8, 17, 17, 5, 48],\n",
       " [1, 11, 3, 6, 82, 10],\n",
       " [1, 6, 7, 9, 64, 28],\n",
       " [4, 13, 9, 11, 40, 26],\n",
       " [8, 21, 20, 9, 38, 15],\n",
       " [2, 6, 8, 11, 29, 50],\n",
       " [3, 7, 28, 25, 37, 8],\n",
       " [6, 37, 8, 13, 25, 18],\n",
       " [1, 8, 12, 33, 33, 25],\n",
       " [5, 17, 9, 23, 23, 35],\n",
       " [19, 2, 32, 40, 4, 15],\n",
       " [9, 11, 20, 29, 26, 12],\n",
       " [4, 8, 12, 14, 36, 24],\n",
       " [6, 5, 7, 15, 37, 30],\n",
       " [3, 23, 12, 25, 43, 10],\n",
       " [7, 21, 7, 6, 41, 28],\n",
       " [18, 6, 21, 19, 9, 34],\n",
       " [8, 1, 29, 26, 6, 37],\n",
       " [10, 27, 6, 6, 39, 25],\n",
       " [1, 8, 13, 21, 55, 4],\n",
       " [3, 17, 15, 31, 33, 15],\n",
       " [1, 7, 12, 21, 34, 34],\n",
       " [20, 16, 5, 7, 31, 40],\n",
       " [13, 11, 14, 21, 9, 27],\n",
       " [15, 22, 7, 10, 27, 25],\n",
       " [8, 4, 15, 8, 14, 52],\n",
       " [12, 3, 16, 17, 7, 50],\n",
       " [9, 16, 9, 15, 27, 21],\n",
       " [4, 9, 33, 37, 17, 16],\n",
       " [17, 25, 1, 4, 35, 36],\n",
       " [30, 2, 2, 5, 2, 64],\n",
       " [5, 8, 3, 4, 25, 65]]"
      ]
     },
     "execution_count": 12,
     "metadata": {},
     "output_type": "execute_result"
    }
   ],
   "source": [
    "data_S2 = GenConfBins(data, 'right')\n",
    "data_S2"
   ]
  },
  {
   "cell_type": "code",
   "execution_count": 13,
   "metadata": {
    "collapsed": false
   },
   "outputs": [],
   "source": [
    "data_output = dict(zip(['S1', 'S2'], [data_S1, data_S2]))"
   ]
  },
  {
   "cell_type": "markdown",
   "metadata": {
    "scrolled": true
   },
   "source": [
    "### Checking that the output looks sensible"
   ]
  },
  {
   "cell_type": "code",
   "execution_count": 14,
   "metadata": {
    "collapsed": false,
    "scrolled": true
   },
   "outputs": [
    {
     "data": {
      "text/plain": [
       "{'S1': [[47, 20, 16, 4, 8, 4],\n",
       "  [54, 7, 20, 4, 5, 8],\n",
       "  [1, 46, 5, 5, 40, 2],\n",
       "  [5, 33, 9, 13, 32, 5],\n",
       "  [18, 44, 15, 6, 20, 6],\n",
       "  [37, 33, 18, 4, 7, 2],\n",
       "  [13, 32, 16, 15, 13, 17],\n",
       "  [13, 34, 35, 15, 6, 1],\n",
       "  [35, 49, 8, 7, 5, 1],\n",
       "  [14, 28, 20, 20, 13, 5],\n",
       "  [27, 29, 15, 10, 13, 6],\n",
       "  [51, 5, 38, 4, 1, 1],\n",
       "  [23, 28, 35, 9, 7, 3],\n",
       "  [23, 29, 23, 13, 17, 9],\n",
       "  [29, 23, 18, 15, 21, 6],\n",
       "  [13, 29, 30, 11, 11, 2],\n",
       "  [24, 43, 7, 2, 20, 6],\n",
       "  [43, 9, 36, 11, 1, 5],\n",
       "  [44, 6, 30, 11, 3, 11],\n",
       "  [38, 40, 3, 1, 13, 4],\n",
       "  [4, 40, 27, 24, 13, 2],\n",
       "  [13, 36, 19, 17, 9, 4],\n",
       "  [10, 25, 27, 15, 18, 8],\n",
       "  [49, 22, 3, 3, 7, 9],\n",
       "  [55, 14, 22, 13, 6, 7],\n",
       "  [62, 25, 3, 4, 9, 3],\n",
       "  [36, 13, 26, 10, 10, 16],\n",
       "  [45, 7, 31, 12, 7, 5],\n",
       "  [38, 32, 19, 12, 8, 6],\n",
       "  [33, 19, 28, 13, 2, 1],\n",
       "  [39, 34, 2, 2, 7, 10],\n",
       "  [74, 5, 2, 1, 1, 24],\n",
       "  [31, 24, 5, 9, 16, 17]],\n",
       " 'S2': [[13, 20, 12, 18, 19, 31],\n",
       "  [19, 8, 17, 17, 5, 48],\n",
       "  [1, 11, 3, 6, 82, 10],\n",
       "  [1, 6, 7, 9, 64, 28],\n",
       "  [4, 13, 9, 11, 40, 26],\n",
       "  [8, 21, 20, 9, 38, 15],\n",
       "  [2, 6, 8, 11, 29, 50],\n",
       "  [3, 7, 28, 25, 37, 8],\n",
       "  [6, 37, 8, 13, 25, 18],\n",
       "  [1, 8, 12, 33, 33, 25],\n",
       "  [5, 17, 9, 23, 23, 35],\n",
       "  [19, 2, 32, 40, 4, 15],\n",
       "  [9, 11, 20, 29, 26, 12],\n",
       "  [4, 8, 12, 14, 36, 24],\n",
       "  [6, 5, 7, 15, 37, 30],\n",
       "  [3, 23, 12, 25, 43, 10],\n",
       "  [7, 21, 7, 6, 41, 28],\n",
       "  [18, 6, 21, 19, 9, 34],\n",
       "  [8, 1, 29, 26, 6, 37],\n",
       "  [10, 27, 6, 6, 39, 25],\n",
       "  [1, 8, 13, 21, 55, 4],\n",
       "  [3, 17, 15, 31, 33, 15],\n",
       "  [1, 7, 12, 21, 34, 34],\n",
       "  [20, 16, 5, 7, 31, 40],\n",
       "  [13, 11, 14, 21, 9, 27],\n",
       "  [15, 22, 7, 10, 27, 25],\n",
       "  [8, 4, 15, 8, 14, 52],\n",
       "  [12, 3, 16, 17, 7, 50],\n",
       "  [9, 16, 9, 15, 27, 21],\n",
       "  [4, 9, 33, 37, 17, 16],\n",
       "  [17, 25, 1, 4, 35, 36],\n",
       "  [30, 2, 2, 5, 2, 64],\n",
       "  [5, 8, 3, 4, 25, 65]]}"
      ]
     },
     "execution_count": 14,
     "metadata": {},
     "output_type": "execute_result"
    }
   ],
   "source": [
    "data_output"
   ]
  },
  {
   "cell_type": "markdown",
   "metadata": {},
   "source": [
    "### Saving the output"
   ]
  },
  {
   "cell_type": "code",
   "execution_count": 15,
   "metadata": {
    "collapsed": false
   },
   "outputs": [],
   "source": [
    "spi.savemat('C:\\\\Users\\\\user\\\\Desktop\\\\metaExpdata.mat', data_output)\n",
    "# open from matlab"
   ]
  },
  {
   "cell_type": "markdown",
   "metadata": {},
   "source": [
    "## Loading the data from Matlab"
   ]
  },
  {
   "cell_type": "code",
   "execution_count": 16,
   "metadata": {
    "collapsed": false,
    "scrolled": true
   },
   "outputs": [],
   "source": [
    "# # Loading the matlab files\n",
    "# meta_conf = spi.loadmat(\"C:\\\\Users\\\\user\\\\Desktop\\\\metaExpdata.mat\")\n",
    "\n",
    "# # Extracting variables\n",
    "# meta_da = meta_conf['fit']['meta_da'].tolist()[0][0][0]\n",
    "# da = meta_conf['fit']['da'].tolist()[0][0][0]\n",
    "# mratio = meta_conf['fit']['Mratio'].tolist()[0][0][0]\n",
    "\n",
    "# #Generating the DF\n",
    "# meta_data = DF([da, meta_da, mratio])\n",
    "# meta_data = meta_data.transpose()\n",
    "# meta_data.columns = ['Da', 'Meta_Da', 'Mratio']\n",
    "# meta_data['participant'] = np.append(range(1, 31), range(71, 73))\n",
    "# meta_data['Mrato_Log'] = np.log(meta_data['Mratio'])\n",
    "# meta_data['Group'] = 'Monolingual'\n"
   ]
  },
  {
   "cell_type": "code",
   "execution_count": 17,
   "metadata": {
    "collapsed": true
   },
   "outputs": [],
   "source": [
    "# meta_data = pd.concat([meta_data], ignore_index=True)"
   ]
  }
 ],
 "metadata": {
  "anaconda-cloud": {},
  "kernelspec": {
   "display_name": "Python [default]",
   "language": "python",
   "name": "python3"
  },
  "language_info": {
   "codemirror_mode": {
    "name": "ipython",
    "version": 3
   },
   "file_extension": ".py",
   "mimetype": "text/x-python",
   "name": "python",
   "nbconvert_exporter": "python",
   "pygments_lexer": "ipython3",
   "version": "3.5.0"
  }
 },
 "nbformat": 4,
 "nbformat_minor": 1
}
